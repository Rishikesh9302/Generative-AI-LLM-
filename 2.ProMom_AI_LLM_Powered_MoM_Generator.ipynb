{
 "cells": [
  {
   "cell_type": "markdown",
   "metadata": {
    "id": "qFPfD_5-xXyc"
   },
   "source": [
    "# ProMoM: AI-LLM Powered MoM (Minutes of Meeting) Generator from Audio File"
   ]
  },
  {
   "cell_type": "markdown",
   "metadata": {
    "id": "9e85-rngGskh"
   },
   "source": [
    "ProMoM is an AI-powered tool that transforms meeting audio into structured, well-formatted Minutes of Meeting.\n",
    "It combines OpenAI’s Whisper for transcription with Meta LLaMA 3.1 for intelligent summarization, delivering clean, actionable meeting notes in markdown.\n",
    "\n"
   ]
  },
  {
   "cell_type": "markdown",
   "metadata": {
    "id": "qptk-9UNGvT9"
   },
   "source": [
    "🔧 Core Features:\n",
    "🎙️ Audio Transcription: Converts meeting audio into accurate text using Whisper.\n",
    "\n",
    "🧠 LLM Summarization: Generates detailed MoM with summaries, key discussion points, takeaways, and action items.\n",
    "\n",
    "📄 Markdown Output: Produces professional, easy-to-read meeting notes.\n",
    "\n",
    "📌 Action Ownership: Assigns action items to responsible owners automatically.\n",
    "\n",
    "⚡ Optimized Performance: Uses 4-bit quantization for faster and memory-efficient processing.\n",
    "\n",
    "🔗 Integration-Ready: Works with Google Colab, Hugging Face Hub, and local/drive-stored audio files."
   ]
  },
  {
   "cell_type": "markdown",
   "metadata": {
    "id": "vd00VYzBGzaM"
   },
   "source": [
    "🤖 Models Used:\n",
    "whisper-1: High-accuracy audio-to-text transcription.\n",
    "\n",
    "meta-llama/Meta-Llama-3.1-8B-Instruct: Generates structured meeting minutes.\n",
    "\n",
    "BitsAndBytes 4-bit: Efficient model loading for large LLMs."
   ]
  },
  {
   "cell_type": "markdown",
   "metadata": {
    "id": "b4v13ypaG2HQ"
   },
   "source": [
    "💻 Tech Stack:\n",
    "Python, Transformers, BitsAndBytes, Torch\n",
    "\n",
    "OpenAI API + Hugging Face Hub"
   ]
  },
  {
   "cell_type": "markdown",
   "metadata": {
    "id": "0PN1QJof0T6M"
   },
   "source": [
    "## 1. Install required libraries"
   ]
  },
  {
   "cell_type": "code",
   "execution_count": null,
   "metadata": {
    "colab": {
     "base_uri": "https://localhost:8080/"
    },
    "id": "Av4PQnXFxOYX",
    "outputId": "b736bd51-a3c5-4153-c3a6-0ca7a25654fe"
   },
   "outputs": [
    {
     "name": "stdout",
     "output_type": "stream",
     "text": [
      "\u001b[2K     \u001b[90m━━━━━━━━━━━━━━━━━━━━━━━━━━━━━━━━━━━━━\u001b[0m \u001b[32m908.3/908.3 MB\u001b[0m \u001b[31m770.1 kB/s\u001b[0m eta \u001b[36m0:00:00\u001b[0m\n",
      "\u001b[2K     \u001b[90m━━━━━━━━━━━━━━━━━━━━━━━━━━━━━━━━━━━━━━━━\u001b[0m \u001b[32m7.3/7.3 MB\u001b[0m \u001b[31m90.6 MB/s\u001b[0m eta \u001b[36m0:00:00\u001b[0m\n",
      "\u001b[2K     \u001b[90m━━━━━━━━━━━━━━━━━━━━━━━━━━━━━━━━━━━━━━━━\u001b[0m \u001b[32m3.4/3.4 MB\u001b[0m \u001b[31m95.0 MB/s\u001b[0m eta \u001b[36m0:00:00\u001b[0m\n",
      "\u001b[2K     \u001b[90m━━━━━━━━━━━━━━━━━━━━━━━━━━━━━━━━━━━━━━━━\u001b[0m \u001b[32m24.6/24.6 MB\u001b[0m \u001b[31m68.8 MB/s\u001b[0m eta \u001b[36m0:00:00\u001b[0m\n",
      "\u001b[2K     \u001b[90m━━━━━━━━━━━━━━━━━━━━━━━━━━━━━━━━━━━━━━\u001b[0m \u001b[32m883.7/883.7 kB\u001b[0m \u001b[31m51.9 MB/s\u001b[0m eta \u001b[36m0:00:00\u001b[0m\n",
      "\u001b[2K     \u001b[90m━━━━━━━━━━━━━━━━━━━━━━━━━━━━━━━━━━━━━━━\u001b[0m \u001b[32m13.8/13.8 MB\u001b[0m \u001b[31m110.2 MB/s\u001b[0m eta \u001b[36m0:00:00\u001b[0m\n",
      "\u001b[2K     \u001b[90m━━━━━━━━━━━━━━━━━━━━━━━━━━━━━━━━━━━━━━━\u001b[0m \u001b[32m664.8/664.8 MB\u001b[0m \u001b[31m3.0 MB/s\u001b[0m eta \u001b[36m0:00:00\u001b[0m\n",
      "\u001b[2K     \u001b[90m━━━━━━━━━━━━━━━━━━━━━━━━━━━━━━━━━━━━━━━\u001b[0m \u001b[32m363.4/363.4 MB\u001b[0m \u001b[31m4.2 MB/s\u001b[0m eta \u001b[36m0:00:00\u001b[0m\n",
      "\u001b[2K     \u001b[90m━━━━━━━━━━━━━━━━━━━━━━━━━━━━━━━━━━━━━━━\u001b[0m \u001b[32m211.5/211.5 MB\u001b[0m \u001b[31m5.7 MB/s\u001b[0m eta \u001b[36m0:00:00\u001b[0m\n",
      "\u001b[2K     \u001b[90m━━━━━━━━━━━━━━━━━━━━━━━━━━━━━━━━━━━━━━━━\u001b[0m \u001b[32m56.3/56.3 MB\u001b[0m \u001b[31m12.8 MB/s\u001b[0m eta \u001b[36m0:00:00\u001b[0m\n",
      "\u001b[2K     \u001b[90m━━━━━━━━━━━━━━━━━━━━━━━━━━━━━━━━━━━━━━━\u001b[0m \u001b[32m127.9/127.9 MB\u001b[0m \u001b[31m7.3 MB/s\u001b[0m eta \u001b[36m0:00:00\u001b[0m\n",
      "\u001b[2K     \u001b[90m━━━━━━━━━━━━━━━━━━━━━━━━━━━━━━━━━━━━━━━\u001b[0m \u001b[32m207.5/207.5 MB\u001b[0m \u001b[31m5.8 MB/s\u001b[0m eta \u001b[36m0:00:00\u001b[0m\n",
      "\u001b[2K     \u001b[90m━━━━━━━━━━━━━━━━━━━━━━━━━━━━━━━━━━━━━━━\u001b[0m \u001b[32m188.7/188.7 MB\u001b[0m \u001b[31m6.1 MB/s\u001b[0m eta \u001b[36m0:00:00\u001b[0m\n",
      "\u001b[2K     \u001b[90m━━━━━━━━━━━━━━━━━━━━━━━━━━━━━━━━━━━━━━━\u001b[0m \u001b[32m21.1/21.1 MB\u001b[0m \u001b[31m105.2 MB/s\u001b[0m eta \u001b[36m0:00:00\u001b[0m\n",
      "\u001b[2K     \u001b[90m━━━━━━━━━━━━━━━━━━━━━━━━━━━━━━━━━━━━━━━\u001b[0m \u001b[32m209.5/209.5 MB\u001b[0m \u001b[31m5.6 MB/s\u001b[0m eta \u001b[36m0:00:00\u001b[0m\n",
      "\u001b[2K     \u001b[90m━━━━━━━━━━━━━━━━━━━━━━━━━━━━━━━━━━━━━━━━\u001b[0m \u001b[32m44.4/44.4 kB\u001b[0m \u001b[31m2.3 MB/s\u001b[0m eta \u001b[36m0:00:00\u001b[0m\n",
      "\u001b[2K   \u001b[90m━━━━━━━━━━━━━━━━━━━━━━━━━━━━━━━━━━━━━━━━\u001b[0m \u001b[32m67.0/67.0 MB\u001b[0m \u001b[31m12.0 MB/s\u001b[0m eta \u001b[36m0:00:00\u001b[0m\n",
      "\u001b[2K   \u001b[90m━━━━━━━━━━━━━━━━━━━━━━━━━━━━━━━━━━━━━━━━\u001b[0m \u001b[32m9.7/9.7 MB\u001b[0m \u001b[31m128.5 MB/s\u001b[0m eta \u001b[36m0:00:00\u001b[0m\n",
      "\u001b[2K   \u001b[90m━━━━━━━━━━━━━━━━━━━━━━━━━━━━━━━━━━━━━━━━\u001b[0m \u001b[32m336.6/336.6 kB\u001b[0m \u001b[31m30.9 MB/s\u001b[0m eta \u001b[36m0:00:00\u001b[0m\n",
      "\u001b[?25h"
     ]
    }
   ],
   "source": [
    "!pip install -q --upgrade torch==2.5.1+cu124 torchvision==0.20.1+cu124 torchaudio==2.5.1+cu124 --index-url https://download.pytorch.org/whl/cu124\n",
    "!pip install -q requests bitsandbytes==0.46.0 transformers==4.48.3 accelerate==1.3.0 openai"
   ]
  },
  {
   "cell_type": "markdown",
   "metadata": {
    "id": "FDhnRi0313DA"
   },
   "source": [
    "## 2. Importing the Libraries"
   ]
  },
  {
   "cell_type": "code",
   "execution_count": null,
   "metadata": {
    "id": "25tfxLMS0keF"
   },
   "outputs": [],
   "source": [
    "import os\n",
    "import requests\n",
    "from IPython.display import Markdown,display,update_display\n",
    "from openai import OpenAI\n",
    "from google.colab import drive,userdata\n",
    "from huggingface_hub import login\n",
    "from transformers import AutoTokenizer, AutoModelForCausalLM, TextStreamer, BitsAndBytesConfig\n",
    "import torch"
   ]
  },
  {
   "cell_type": "markdown",
   "metadata": {
    "id": "_VRei47t4OQY"
   },
   "source": [
    "## 3. Setting up the Environment"
   ]
  },
  {
   "cell_type": "code",
   "execution_count": null,
   "metadata": {
    "id": "VRfOoild26wq"
   },
   "outputs": [],
   "source": [
    "#constants\n",
    "audio_model = \"whisper-1\"\n",
    "llama_model = \"meta-llama/Meta-Llama-3.1-8B-Instruct\""
   ]
  },
  {
   "cell_type": "code",
   "execution_count": null,
   "metadata": {
    "colab": {
     "base_uri": "https://localhost:8080/"
    },
    "id": "TEDbdPyG4s2q",
    "outputId": "97bc815c-627d-4fab-eef4-eea478a0c05f"
   },
   "outputs": [
    {
     "name": "stdout",
     "output_type": "stream",
     "text": [
      "Mounted at /content/drive\n"
     ]
    }
   ],
   "source": [
    "# Mounting and connecting with the drive\n",
    "drive.mount('/content/drive')\n",
    "audio_filename = \"/content/denver_extract.mp3\""
   ]
  },
  {
   "cell_type": "code",
   "execution_count": null,
   "metadata": {
    "id": "Itp04Kx85CLo"
   },
   "outputs": [],
   "source": [
    "# Signing in to Huggingface Hub\n",
    "from huggingface_hub import login\n",
    "hf_token = userdata.get('HF_TOKEN')\n",
    "login(token=hf_token)"
   ]
  },
  {
   "cell_type": "code",
   "execution_count": null,
   "metadata": {
    "id": "LqQr5o7E5wkq"
   },
   "outputs": [],
   "source": [
    "# Signing into OpenAI\n",
    "openai_api_key = userdata.get('OPENAI_API_KEY')\n",
    "openai = OpenAI(api_key=openai_api_key)"
   ]
  },
  {
   "cell_type": "markdown",
   "metadata": {
    "id": "74VnuqTS8XEe"
   },
   "source": [
    "## 4. Using the OpenAI Whisper model to create the transcript"
   ]
  },
  {
   "cell_type": "code",
   "execution_count": null,
   "metadata": {
    "colab": {
     "base_uri": "https://localhost:8080/"
    },
    "id": "dhlroGHQ7hNk",
    "outputId": "528d5340-cb92-43b2-9e7c-ddee1ead8111"
   },
   "outputs": [
    {
     "name": "stdout",
     "output_type": "stream",
     "text": [
      "and kind of the confluence of this whole idea of the confluence week, the merging of two rivers and as we've kind of seen recently in politics and in the world, there's a lot of situations where water is very important right now and it's a very big issue. So that is the reason that the back of the logo is considered water. So let me see the creation of the logo here. So that basically kind of sums up the reason behind the logo and all the meanings behind the symbolism and you'll hear a little bit more about our confluence week is basically highlighting all of these indigenous events and things that are happening around Denver so that we can kind of bring more people together and kind of share this whole idea of Indigenous People's Day. So thank you. Thank you so much and thanks for your leadership. All right. Welcome to the Denver City Council meeting of Monday, October 9th. Please rise with the Pledge of Allegiance by Councilman Lopez. I pledge allegiance to the flag of the United States of America, and to the republic for which it stands, one nation, under God, indivisible, with liberty and justice for all. All right. Thank you, Councilman Lopez. Madam Secretary, roll call. Clerk. Here. Espinosa. Here. Flynn. Here. Gilmour. Here. Here. Cashman. Here. Kenneche. Here. Lopez. Here. New. Here. Ortega. Here. Sussman. Here. Mr. President. Here. 11 present. 11 members present. We do have a quorum. Approval of the minutes. Seeing none. Minutes of October 2nd stand approved. Council announcements. Are there any announcements by members of Council? Councilman Clark. Thank you, Mr. President. I just wanted to invite everyone down to the first ever Halloween parade on Broadway in Lucky District 7. It will happen on Saturday, October 21st at 6 o'clock p.m. It will move along Broadway from 3rd to Alameda. It's going to be a fun, family-friendly event. Everyone's invited to come down, wear a costume. There will be candy for the kids and there are tiki zombies and 29 hearses and all kinds of fun and funky stuff on the fun and funky part of Broadway. So please join us October 21st at 6 o'clock for the Broadway Halloween parade. Thank you, Mr. President. All right. Thank you, Councilman Clark. I will be there. All right. Presentations. Madam Secretary, do we have any presentations? None, Mr. President. Communications. Do we have any communications? None, Mr. President. We do have one proclamation this evening. Proclamation 1127, an observance of the annual Indigenous Peoples Day in the City and County of Denver. Councilman Lopez, will you please read it? Thank you, Mr. President, with pride. Proclamation number 17, well, let me just say this differently. Proclamation number 1127, series of 2017, an observance of the second annual Indigenous Peoples Day in the City and County of Denver. Whereas the Council of the City and County of Denver recognizes that the Indigenous Peoples have lived and flourished on the lands known as the Americas since time immemorial and that Denver and the surrounding communities are built upon the ancestral homelands of numerous Indigenous tribes, which include the Southern Ute, the Ute Mountain, Ute tribes of Colorado. And whereas the tribal homelands and seasonal encampments of the Arapaho and Cheyenne people along the banks of the Cherry Creek and South Platte River confluence gave bearing to the future settlements that would become the birthplace of the Mile High City. And whereas Colorado encompasses the ancestral homelands of 48 tribes and the City and County of Denver and surrounding communities are home to the descendants of approximately 100 tribal nations. And whereas on October 3rd, 2016, the City and County of Denver unanimously passed Council Bill 801, series of 2016, officially designating the second Monday of October of each year as Indigenous Peoples Day in Denver, Colorado. And whereas the Council of the City and County of Denver continues to recognize and value the vast contributions made to the community through Indigenous Peoples' knowledge, science, philosophy, arts, and culture. And through these contributions, the City of Denver has developed and thrived. Whereas the Indigenous community, especially youth, have made great efforts this year to draw attention to the contributions of Indigenous people, including Confluence Week, drawing record attendance to a National Indigenous Youth Leadership Conference, leading conversations on inclusion with their peers, and supporting increased Indigenous youth participation in science and engineering. Now, therefore, be it proclaimed by the Council of the City and County of Denver, Section 1, that the Council of the City and County of Denver celebrates and honors the cultural and foundational contributions of Indigenous people to our history, our past, our present, and future, and continues to promote the education of the Denver community about these historical and contemporary contributions of Indigenous people. Section 2, that the City and County of Denver, Colorado, does hereby observe October 9th, 2017, as Indigenous Peoples Day. Section 3, that the Clerk of the City and County of Denver shall attest and affix the seal of the City and County of Denver to this proclamation, and that a copy be transmitted to the Denver American Indian Commission, the City and County of Denver School District No. 1, and the Colorado Commission on Indian Affairs. Thank you, Councilman Lopez. Your motion to adopt. Mr. President, I move that Proclamation No. 1127, Series of 2017, be adopted. All right. It has been moved and seconded. It comes from the members of Council. Councilman Lopez. Thank you, Mr. President. It gives me a lot of pleasure and pride to read this proclamation officially for the third time, but as Indigenous Peoples Day in Denver, officially for the second time. It's always awesome to be able to see not just this proclamation come by my desk, but to see so many different people from our community in our Council Chambers. It was a very beautiful piece of artwork that you presented to us earlier, and it is exactly the spirit that we drafted this proclamation and this actual, the ordinance that created Indigenous Peoples Day when we sat down and wrote it, and as a community, we couldn't think of anything else to begin except for the confluence of the two rivers, and those confluence of the two rivers created such a great city, and we live in such an amazing city, and we're all proud of it, and sometimes we, and a lot of people from all over the country or all over the world are proud of it, and sometimes a little too proud of it is telling them to go back home, but I'm kidding when I say that, but the really nice thing about this is that we are celebrating Indigenous Peoples Day out of pride for who we are, who we are as a city, and the contributions of Indigenous people to the city, not out of spite, not out of a replacement of one culture over the other, or out of contempt or disrespect. You know, I think of a quote that Cesar Chavez made very popular, and it stuck with me for a very long time, and any time I have the opportunity to speak in front of children, and especially children in our community that, you know, they often second guess themselves on where they're coming from, who they are, and I always say that, you know, it's very important to be proud of who you're from, and the quote that I use from Cesar Chavez is, you know, pride in one's own cultures does not require contempt or disrespect of another, right? And that's very important. It's very important for us to recognize that, no matter who we are, where we come from in this society, that your pride in your own culture doesn't require, should not require the contempt or disrespect of another. And man, what a year to be, for that to just sit on our shoulders for a while, for us to think about, right? And so, I wanted to, just to thank you all, to thank the commission, there's going to be a couple individuals that are going to come speak, thank you for your art, your lovely artwork, for us to see what's in your heart and what now has become, probably is going to be a very important symbol for the community. And also, just for the work, the daily work, every single day, we still have a lot of brothers and sisters whose ancestors once lived in these lands freely, now stand on street corners, right? In poverty, without access to services, right? Without access to sobriety or even housing or jobs. And what a, what a, what a cruel way to pay back a culture that has paved the way for the city to be built upon its shores, right? So, we have a lot of work to do. And these kind of proclamations and this day is not a day off, it's a day on in Denver, right? And addressing those critical issues. So, I know that my colleagues are very supportive, I'm going to ask you to support this proclamation, as I know you always have done in the past, I'm very proud of today. Oh, and we made Time Magazine and Newsweek once again, today, as being a leader in terms of the cities that are celebrating Indigenous Peoples Day. I wanted to make a point out of that. Thank you, Councilman Lopez, and thank you for sponsoring this. Councilman Ortega? Mr. President, I want to ask that my name be added. I don't think I could add much more to what Councilman Lopez has shared with us. I want to thank him for bringing this forward and really just appreciate all the contributions that our Native American community has contributed to this great city and great state. I worked in the Lieutenant Governor's Office when the Commission on Indian Affairs was created, and had the benefit of being able to go down to the Four Corners for a peace treaty signing ceremony between the Utes and the Comanches that had been sort of at odds with each other for about a hundred years, and just being able to participate in that powwow was pretty awesome. And for those of you who continue to participate in the annual powwow, it's such a great opportunity for everybody else to enjoy so many of the contributions of the culture. I mean, to see that the dance continues to be carried on as well as the Native language from generation to generation is just so incredible because in so many cultures, you know, people have come here and assimilated to the, you know, the norms here and they lose their language and lose a lot of the culture. And in the Native community, that hasn't happened. That, you know, commitment to just passing that on from generation to generation is so important. And so I'm happy to be a co-sponsor of this tonight. Thank you. All right. Thank you, Councilwoman Ortega. Councilwoman Kaneech. Thank you very much, and I also want to thank my colleague for bringing this forward. And I just wanted to say a word to the artist about how beautiful and moving I thought this logo was and your description of it. And I think one of the things that is clear is, you know, the words sometimes don't convey the power of imagery or music or the other pieces that make up culture, and so I think the art is so important. And when you talked about water, I was also thinking about land, and I guess I just wanted to say thank you. Many of the Native American peoples of Colorado have been at the forefront, or actually nationally, of defending some of the public lands that have been protected over the last few years that are under attack right now. And they're places that the communities have fought to protect, but that everyone gets to enjoy. And so I just think that it's an example of where cultural preservation intersects with environmental protection, with, you know, recreation and all of the other ways that public lands are so important. And so I think I just wanted to say thank you for that because I think we have some very sacred places in our country that are at risk right now. And so as we celebrate, I appreciate that there's still a piece of resistance in here, and I think that I just want to mention a solidarity and mention a feeling of solidarity with that resistance. So thank you, and happy Confluence Week. Thank you, Councilwoman Kinneach. And seeing no other comments, I'll just say a couple. And in a time of such divisive ugliness and just despicable behavior from our leadership, the reason I'm so supportive of Indigenous Peoples' Day is because it means inclusivity. It means respecting all, respecting those who have been silenced on purpose for a long time and whose history has not been told. And so we celebrate inclusivity in the face of such evil times, honestly.\n",
      "\n"
     ]
    }
   ],
   "source": [
    "audio_file = open(audio_filename,\"rb\")\n",
    "transcription_out = openai.audio.transcriptions.create(\n",
    "    model=audio_model,\n",
    "    file=audio_file,\n",
    "    response_format = \"text\"\n",
    ")\n",
    "\n",
    "print(transcription_out)"
   ]
  },
  {
   "cell_type": "markdown",
   "metadata": {
    "id": "h8h3KSai9dFi"
   },
   "source": [
    "## 5. Setting the System prompt & User prompt"
   ]
  },
  {
   "cell_type": "code",
   "execution_count": null,
   "metadata": {
    "id": "XMI5CWUq8z5H"
   },
   "outputs": [],
   "source": [
    "system_prompt = \"You are a very capable assistant that produces the MoM (Minutes of the Meeting) from any transcript, with summary, key discussion points, takeaways & action items with its respective owners, in proper markdown\"\n",
    "user_prompt = f\"Below is the extract transcript of a Denver Council Meeting. Please write the minutes in markdown, including a summary with attendees, location and date; discussion points; takeaways; and action items with their respective owners. \\n{transcription_out}\"\n",
    "\n",
    "messages = [\n",
    "    {\"role\" : \"system\",\"content\":system_prompt},\n",
    "    {\"role\" : \"user\",\"content\":user_prompt}\n",
    "]\n"
   ]
  },
  {
   "cell_type": "markdown",
   "metadata": {
    "id": "YXXB-7zd_rU8"
   },
   "source": [
    "## 6. Optimizing weights for memory"
   ]
  },
  {
   "cell_type": "code",
   "execution_count": null,
   "metadata": {
    "colab": {
     "base_uri": "https://localhost:8080/"
    },
    "id": "BxcpVvWT-zLW",
    "outputId": "0ccedfbd-6776-4c76-cdae-d7e5cbb91045"
   },
   "outputs": [
    {
     "name": "stderr",
     "output_type": "stream",
     "text": [
      "Unused kwargs: ['load_in_4_bit', 'bnb_4_bit_use_double_quant', 'bnb_4_bit_quant_type', 'bnb_4_bit_compute_dtype']. These kwargs are not used in <class 'transformers.utils.quantization_config.BitsAndBytesConfig'>.\n"
     ]
    }
   ],
   "source": [
    "quant_config = BitsAndBytesConfig(\n",
    "    load_in_4_bit = True,\n",
    "    bnb_4_bit_use_double_quant = True,\n",
    "    bnb_4_bit_quant_type = \"nf4\",\n",
    "    bnb_4_bit_compute_dtype = torch.bfloat16\n",
    ")"
   ]
  },
  {
   "cell_type": "markdown",
   "metadata": {
    "id": "6zj611WGGKfJ"
   },
   "source": [
    "# 7. Running the Model and Generating output"
   ]
  },
  {
   "cell_type": "code",
   "execution_count": null,
   "metadata": {
    "colab": {
     "base_uri": "https://localhost:8080/",
     "height": 1000,
     "referenced_widgets": [
      "796487042a994b2eb2bbe477d344f414",
      "75c559e533c544bba339e861c8bbd96e",
      "53c3f7ba306f4a4ebbe4d60a7b3a7d36",
      "84c3d7d1b25749afb8c28e0ffff238fa",
      "e75c5267500f49e38840feafe51b7bad",
      "a53965f3dd97427b8b8eea87a898715f",
      "ddc33df736a445f98a61dd87e105fa79",
      "107670fd983a4478b59eec5361f26f91",
      "72e85b57e4e546549712f5709ad10862",
      "267ee258cdce46a9980a14ca8092973a",
      "482f1870e05546c985e3d6c007edf6c9",
      "3020b4217b874102b5ab8a99cde574a7",
      "48814aa98d0b474c80398579c62bbb12",
      "1ef9652e90784192a77d586b1aabe1f7",
      "7692d84f939842529c805728d3e12389",
      "4a84f67f86704947b8242e6eebe043e4",
      "12569a80ae7c4b2a93267615755a443b",
      "c0af00788974470e981215a0a83bbe47",
      "3729c0cf562041619c3bd457808e1084",
      "bb1fd45918564dd2ac73dcdf91ee01c5",
      "ce3a732697194c44a4a742fe966c7bd5",
      "16b221bbed0647f28beae94dcdacbc55",
      "67bf8fa3cf8448fab7dfaca12badd999",
      "01acf6b189804d6abd3908156700559d",
      "bfc81549d16f47b894721a42895aa11b",
      "631970815cad4a66ad75b5d3fe149a5f",
      "e05993f11fa84b39973e65dac3df183b",
      "df1278f940674cc8a9421c6ceced748d",
      "fe7658f399424abe8d6bbbb8577a6dc6",
      "78ffc4f9ba4a42c592e2f05392a1122c",
      "2498c85ebb3e4d04a317788f6f4c89d6",
      "790163e66cec44d7b9147983d997629f",
      "3eef37c335484f6fa6c98b9d38484ad3",
      "a221c4a51033419aacb1be6314ed4c08",
      "8ed9c92ccad443e4ba7730390d339fcd",
      "bda711716ade4fa2a1bb5e8eb7a104ba",
      "73d0d28a0a5446fca5a08fb3da77a7cc",
      "85d62b128c6342f4a0de70fe2bbea937",
      "2e8de79271b64b0da335907389e38565",
      "1f4964afd05a4e5f9edf0d3490c24f15",
      "8a91f291155242e8b46a432df9cc2627",
      "8481718fc9a24a18aedf355218e44afe",
      "4f56e25bb83a41f0a3939696157e9b8a",
      "76e953abaa9e49b5914ddf32b2a0f82d",
      "630c5a00be0c43eeb81f12808a0a0a39",
      "986bf81f180145d68ef7482ee453d719",
      "d480ac34ed4248db8db880c1ceb68885",
      "22bcde40873243009ba84458f7170c2d",
      "3888e541bd944e418ce68f947e60135c",
      "2aa9c25fc45342c18cba9b5805cddca0",
      "49b40b4e41514128ac25b34fcfa5223f",
      "020167db196f4723b0438229f90c769d",
      "bebfa958ac2747849a6d43fa927de21b",
      "4403a01a66584d92bf975b4d0fd5e403",
      "36446b4ef90144e7a66cbf04db2e8f04",
      "3859edac20ba4056acde94f5ed906705",
      "8fe758f60a2a452fb233fc9563b49617",
      "6461e8f225774e35af33a1f410cde2b1",
      "c8dba54c426f4178b5bb991a9a05279e",
      "5333bf2a68e74a799e99959ad6d223f9",
      "3d1c47089a404abda88c7173fb011a76",
      "7fca494d6b0f4d7fb8e99b50bbe82954",
      "cc4a61dd5d4a43019aa798158dc35020",
      "d7051a6233c840ca9d7a16b1ba7d926f",
      "71888108dd6f4f31ac7c25917c9a063d",
      "c077ca1090654e74877b8693cc72de30",
      "84abab437b434164aafa6496bd1e174b",
      "c4d25ad136964b07b52f36f399039cbb",
      "b67f05260d6649fc8abf0dfb3a78e67b",
      "55eb01fc4aa24ea5a345966084e62589",
      "7722b6b5035d4d9e851f87acbf174035",
      "4839663d8cae461f929c83ae79087021",
      "a590281857834810bf5d0bc278c52d85",
      "640cd86d629146a1867ace6767859958",
      "6f76bacbc5174848ab1ad7b3c4a9b907",
      "282c4791f2f24005bffbe91706549f21",
      "60f491a919eb487c863f0ea561493ac0",
      "765df5f0b3d74258bc18910890dd4a43",
      "1d395909717342778fe88bfe7d666adf",
      "8c482c1cb79c48b4a7ff55ef2bb9ad2c",
      "8fb9ef3f6ccc4147841dbb78fab28b7b",
      "fc83f606b10e448ebaedb2a866d6c2f7",
      "018fbf537bf54d879d6f72d607392bbb",
      "1a657f275dfd4ed6a71bed96a1cb04af",
      "5b01af3180b0430fb7ef2c5a595a89b6",
      "20adaabd72614999bbce0c1876f0677c",
      "52e157d66f4b48299b5965a80c21d79b",
      "49dd5e5af08c45f7bf6d13eafa1f4307",
      "772bf1cec1b14fd0a6130660d401416d",
      "a091e399ebc34064a02d1a8904391ac8",
      "e50f9b39d096404c9cc836f93b55f519",
      "8a3566fe72c44f16a7a5c9f1f6359df1",
      "3e5293f59c9340a1bdd1f6885bcc79db",
      "ac8ea185560b4634b03fe4da84190570",
      "bef6bf9475ae4f2cb6e876a9175abc62",
      "adfa626f59584ec392ccf3200983fa8c",
      "9b00f8fb003b4bf59ce01662630bbd38",
      "db9634ba5a5d4cb58a7f64a1f43c7464",
      "48312b25faac4ea5878a95d541c9ffa8",
      "2dcb33dc33c841afbd8f6dceed9311c4",
      "b5c4572047fb49669df8c4345105b416",
      "69f1e64ebb6543b7830f73ab2afcdb4a",
      "c8f39491dc1e401e858afc22cabcdd9f",
      "1c6a570b66cf483a8c2499b67530ff96",
      "72ebb257c1494e6d9e063bce28b4d846",
      "053e36a4903c495eb6422648f2b6cc50",
      "c609b5505120430bbcaea5b36bb2d827",
      "12b5264180e24edc9272b4325ff8dc0a",
      "ff3fa5b86bf24508bd8633ac3a4e5b42",
      "d0cc9143940643adb6da23cae5de5149",
      "d93da86575a94063a0a5eb2c6c730ea3",
      "963a25642dd847819d31b8a038971a81",
      "f1eb22725ecf43459a5ca7c56fef51e0",
      "66d9a0ca32e84d0abaaebae934fd698e",
      "5dbaa2649acb4f29bf1e6f2dcf0ffe6a",
      "936bdc77ca1a47c7990d677f215705a2",
      "ccde9e3cf08d467886e6e076950a1bda",
      "0c8bf62e1b3047ceaa041d100008c44e",
      "b58eb6093b574b9aaff864ed147b41d7",
      "06fe362425284f68942bf5b1fff2702b",
      "58b9ba4ef6c945d286f3a2c729521a7a",
      "3217ab219ff0493a8373ed140710fb41",
      "4d54aeec5cc044c09a117be403294010",
      "497e251b4e5843cfa1362f7330f0155f",
      "e24f788a869c4a77b2030f0ca9de8361",
      "d077e7b79c5f40418b4cd1eac7364610",
      "bfc866820c354112a0caf909b9258a1b",
      "d01d995fdc024ef38dd008202ab88f3e",
      "fd67b50b7c93458faf7b46a3a9e79add",
      "374d9b6f81a24cf3a1c84a80c23fcf96",
      "69c8ebf1310d4d459f8bb7e414cdfd86",
      "a53f0beecccf48aea5578d22e6655c6f"
     ]
    },
    "id": "1RZRYc3Z_psM",
    "outputId": "c20fa927-053a-484e-bd7a-be4dc2c4ae09"
   },
   "outputs": [
    {
     "data": {
      "text/plain": [
       "tokenizer_config.json:   0%|          | 0.00/55.4k [00:00<?, ?B/s]"
      ]
     },
     "metadata": {},
     "output_type": "display_data"
    },
    {
     "data": {
      "text/plain": [
       "tokenizer.json:   0%|          | 0.00/9.09M [00:00<?, ?B/s]"
      ]
     },
     "metadata": {},
     "output_type": "display_data"
    },
    {
     "data": {
      "text/plain": [
       "special_tokens_map.json:   0%|          | 0.00/296 [00:00<?, ?B/s]"
      ]
     },
     "metadata": {},
     "output_type": "display_data"
    },
    {
     "data": {
      "text/plain": [
       "config.json:   0%|          | 0.00/855 [00:00<?, ?B/s]"
      ]
     },
     "metadata": {},
     "output_type": "display_data"
    },
    {
     "data": {
      "text/plain": [
       "model.safetensors.index.json:   0%|          | 0.00/23.9k [00:00<?, ?B/s]"
      ]
     },
     "metadata": {},
     "output_type": "display_data"
    },
    {
     "data": {
      "text/plain": [
       "Downloading shards:   0%|          | 0/4 [00:00<?, ?it/s]"
      ]
     },
     "metadata": {},
     "output_type": "display_data"
    },
    {
     "data": {
      "text/plain": [
       "model-00001-of-00004.safetensors:   0%|          | 0.00/4.98G [00:00<?, ?B/s]"
      ]
     },
     "metadata": {},
     "output_type": "display_data"
    },
    {
     "data": {
      "text/plain": [
       "model-00002-of-00004.safetensors:   0%|          | 0.00/5.00G [00:00<?, ?B/s]"
      ]
     },
     "metadata": {},
     "output_type": "display_data"
    },
    {
     "data": {
      "text/plain": [
       "model-00003-of-00004.safetensors:   0%|          | 0.00/4.92G [00:00<?, ?B/s]"
      ]
     },
     "metadata": {},
     "output_type": "display_data"
    },
    {
     "data": {
      "text/plain": [
       "model-00004-of-00004.safetensors:   0%|          | 0.00/1.17G [00:00<?, ?B/s]"
      ]
     },
     "metadata": {},
     "output_type": "display_data"
    },
    {
     "data": {
      "text/plain": [
       "Loading checkpoint shards:   0%|          | 0/4 [00:00<?, ?it/s]"
      ]
     },
     "metadata": {},
     "output_type": "display_data"
    },
    {
     "data": {
      "text/plain": [
       "generation_config.json:   0%|          | 0.00/184 [00:00<?, ?B/s]"
      ]
     },
     "metadata": {},
     "output_type": "display_data"
    },
    {
     "name": "stderr",
     "output_type": "stream",
     "text": [
      "The attention mask and the pad token id were not set. As a consequence, you may observe unexpected behavior. Please pass your input's `attention_mask` to obtain reliable results.\n",
      "Setting `pad_token_id` to `eos_token_id`:128001 for open-end generation.\n",
      "The attention mask is not set and cannot be inferred from input because pad token is same as eos token. As a consequence, you may observe unexpected behavior. Please pass your input's `attention_mask` to obtain reliable results.\n"
     ]
    },
    {
     "name": "stdout",
     "output_type": "stream",
     "text": [
      "<|begin_of_text|><|start_header_id|>system<|end_header_id|>\n",
      "\n",
      "Cutting Knowledge Date: December 2023\n",
      "Today Date: 26 Jul 2024\n",
      "\n",
      "You are a very capable assistant that produces the MoM (Minutes of the Meeting) from any transcript, with summary, key discussion points, takeaways & action items with its respective owners, in proper markdown<|eot_id|><|start_header_id|>user<|end_header_id|>\n",
      "\n",
      "Below is the extract transcript of a Denver Council Meeting. Please write the minutes in markdown, including a summary with attendees, location and date; discussion points; takeaways; and action items with their respective owners. \n",
      "and kind of the confluence of this whole idea of the confluence week, the merging of two rivers and as we've kind of seen recently in politics and in the world, there's a lot of situations where water is very important right now and it's a very big issue. So that is the reason that the back of the logo is considered water. So let me see the creation of the logo here. So that basically kind of sums up the reason behind the logo and all the meanings behind the symbolism and you'll hear a little bit more about our confluence week is basically highlighting all of these indigenous events and things that are happening around Denver so that we can kind of bring more people together and kind of share this whole idea of Indigenous People's Day. So thank you. Thank you so much and thanks for your leadership. All right. Welcome to the Denver City Council meeting of Monday, October 9th. Please rise with the Pledge of Allegiance by Councilman Lopez. I pledge allegiance to the flag of the United States of America, and to the republic for which it stands, one nation, under God, indivisible, with liberty and justice for all. All right. Thank you, Councilman Lopez. Madam Secretary, roll call. Clerk. Here. Espinosa. Here. Flynn. Here. Gilmour. Here. Here. Cashman. Here. Kenneche. Here. Lopez. Here. New. Here. Ortega. Here. Sussman. Here. Mr. President. Here. 11 present. 11 members present. We do have a quorum. Approval of the minutes. Seeing none. Minutes of October 2nd stand approved. Council announcements. Are there any announcements by members of Council? Councilman Clark. Thank you, Mr. President. I just wanted to invite everyone down to the first ever Halloween parade on Broadway in Lucky District 7. It will happen on Saturday, October 21st at 6 o'clock p.m. It will move along Broadway from 3rd to Alameda. It's going to be a fun, family-friendly event. Everyone's invited to come down, wear a costume. There will be candy for the kids and there are tiki zombies and 29 hearses and all kinds of fun and funky stuff on the fun and funky part of Broadway. So please join us October 21st at 6 o'clock for the Broadway Halloween parade. Thank you, Mr. President. All right. Thank you, Councilman Clark. I will be there. All right. Presentations. Madam Secretary, do we have any presentations? None, Mr. President. Communications. Do we have any communications? None, Mr. President. We do have one proclamation this evening. Proclamation 1127, an observance of the annual Indigenous Peoples Day in the City and County of Denver. Councilman Lopez, will you please read it? Thank you, Mr. President, with pride. Proclamation number 17, well, let me just say this differently. Proclamation number 1127, series of 2017, an observance of the second annual Indigenous Peoples Day in the City and County of Denver. Whereas the Council of the City and County of Denver recognizes that the Indigenous Peoples have lived and flourished on the lands known as the Americas since time immemorial and that Denver and the surrounding communities are built upon the ancestral homelands of numerous Indigenous tribes, which include the Southern Ute, the Ute Mountain, Ute tribes of Colorado. And whereas the tribal homelands and seasonal encampments of the Arapaho and Cheyenne people along the banks of the Cherry Creek and South Platte River confluence gave bearing to the future settlements that would become the birthplace of the Mile High City. And whereas Colorado encompasses the ancestral homelands of 48 tribes and the City and County of Denver and surrounding communities are home to the descendants of approximately 100 tribal nations. And whereas on October 3rd, 2016, the City and County of Denver unanimously passed Council Bill 801, series of 2016, officially designating the second Monday of October of each year as Indigenous Peoples Day in Denver, Colorado. And whereas the Council of the City and County of Denver continues to recognize and value the vast contributions made to the community through Indigenous Peoples' knowledge, science, philosophy, arts, and culture. And through these contributions, the City of Denver has developed and thrived. Whereas the Indigenous community, especially youth, have made great efforts this year to draw attention to the contributions of Indigenous people, including Confluence Week, drawing record attendance to a National Indigenous Youth Leadership Conference, leading conversations on inclusion with their peers, and supporting increased Indigenous youth participation in science and engineering. Now, therefore, be it proclaimed by the Council of the City and County of Denver, Section 1, that the Council of the City and County of Denver celebrates and honors the cultural and foundational contributions of Indigenous people to our history, our past, our present, and future, and continues to promote the education of the Denver community about these historical and contemporary contributions of Indigenous people. Section 2, that the City and County of Denver, Colorado, does hereby observe October 9th, 2017, as Indigenous Peoples Day. Section 3, that the Clerk of the City and County of Denver shall attest and affix the seal of the City and County of Denver to this proclamation, and that a copy be transmitted to the Denver American Indian Commission, the City and County of Denver School District No. 1, and the Colorado Commission on Indian Affairs. Thank you, Councilman Lopez. Your motion to adopt. Mr. President, I move that Proclamation No. 1127, Series of 2017, be adopted. All right. It has been moved and seconded. It comes from the members of Council. Councilman Lopez. Thank you, Mr. President. It gives me a lot of pleasure and pride to read this proclamation officially for the third time, but as Indigenous Peoples Day in Denver, officially for the second time. It's always awesome to be able to see not just this proclamation come by my desk, but to see so many different people from our community in our Council Chambers. It was a very beautiful piece of artwork that you presented to us earlier, and it is exactly the spirit that we drafted this proclamation and this actual, the ordinance that created Indigenous Peoples Day when we sat down and wrote it, and as a community, we couldn't think of anything else to begin except for the confluence of the two rivers, and those confluence of the two rivers created such a great city, and we live in such an amazing city, and we're all proud of it, and sometimes we, and a lot of people from all over the country or all over the world are proud of it, and sometimes a little too proud of it is telling them to go back home, but I'm kidding when I say that, but the really nice thing about this is that we are celebrating Indigenous Peoples Day out of pride for who we are, who we are as a city, and the contributions of Indigenous people to the city, not out of spite, not out of a replacement of one culture over the other, or out of contempt or disrespect. You know, I think of a quote that Cesar Chavez made very popular, and it stuck with me for a very long time, and any time I have the opportunity to speak in front of children, and especially children in our community that, you know, they often second guess themselves on where they're coming from, who they are, and I always say that, you know, it's very important to be proud of who you're from, and the quote that I use from Cesar Chavez is, you know, pride in one's own cultures does not require contempt or disrespect of another, right? And that's very important. It's very important for us to recognize that, no matter who we are, where we come from in this society, that your pride in your own culture doesn't require, should not require the contempt or disrespect of another. And man, what a year to be, for that to just sit on our shoulders for a while, for us to think about, right? And so, I wanted to, just to thank you all, to thank the commission, there's going to be a couple individuals that are going to come speak, thank you for your art, your lovely artwork, for us to see what's in your heart and what now has become, probably is going to be a very important symbol for the community. And also, just for the work, the daily work, every single day, we still have a lot of brothers and sisters whose ancestors once lived in these lands freely, now stand on street corners, right? In poverty, without access to services, right? Without access to sobriety or even housing or jobs. And what a, what a, what a cruel way to pay back a culture that has paved the way for the city to be built upon its shores, right? So, we have a lot of work to do. And these kind of proclamations and this day is not a day off, it's a day on in Denver, right? And addressing those critical issues. So, I know that my colleagues are very supportive, I'm going to ask you to support this proclamation, as I know you always have done in the past, I'm very proud of today. Oh, and we made Time Magazine and Newsweek once again, today, as being a leader in terms of the cities that are celebrating Indigenous Peoples Day. I wanted to make a point out of that. Thank you, Councilman Lopez, and thank you for sponsoring this. Councilman Ortega? Mr. President, I want to ask that my name be added. I don't think I could add much more to what Councilman Lopez has shared with us. I want to thank him for bringing this forward and really just appreciate all the contributions that our Native American community has contributed to this great city and great state. I worked in the Lieutenant Governor's Office when the Commission on Indian Affairs was created, and had the benefit of being able to go down to the Four Corners for a peace treaty signing ceremony between the Utes and the Comanches that had been sort of at odds with each other for about a hundred years, and just being able to participate in that powwow was pretty awesome. And for those of you who continue to participate in the annual powwow, it's such a great opportunity for everybody else to enjoy so many of the contributions of the culture. I mean, to see that the dance continues to be carried on as well as the Native language from generation to generation is just so incredible because in so many cultures, you know, people have come here and assimilated to the, you know, the norms here and they lose their language and lose a lot of the culture. And in the Native community, that hasn't happened. That, you know, commitment to just passing that on from generation to generation is so important. And so I'm happy to be a co-sponsor of this tonight. Thank you. All right. Thank you, Councilwoman Ortega. Councilwoman Kaneech. Thank you very much, and I also want to thank my colleague for bringing this forward. And I just wanted to say a word to the artist about how beautiful and moving I thought this logo was and your description of it. And I think one of the things that is clear is, you know, the words sometimes don't convey the power of imagery or music or the other pieces that make up culture, and so I think the art is so important. And when you talked about water, I was also thinking about land, and I guess I just wanted to say thank you. Many of the Native American peoples of Colorado have been at the forefront, or actually nationally, of defending some of the public lands that have been protected over the last few years that are under attack right now. And they're places that the communities have fought to protect, but that everyone gets to enjoy. And so I just think that it's an example of where cultural preservation intersects with environmental protection, with, you know, recreation and all of the other ways that public lands are so important. And so I think I just wanted to say thank you for that because I think we have some very sacred places in our country that are at risk right now. And so as we celebrate, I appreciate that there's still a piece of resistance in here, and I think that I just want to mention a solidarity and mention a feeling of solidarity with that resistance. So thank you, and happy Confluence Week. Thank you, Councilwoman Kinneach. And seeing no other comments, I'll just say a couple. And in a time of such divisive ugliness and just despicable behavior from our leadership, the reason I'm so supportive of Indigenous Peoples' Day is because it means inclusivity. It means respecting all, respecting those who have been silenced on purpose for a long time and whose history has not been told. And so we celebrate inclusivity in the face of such evil times, "
     ]
    },
    {
     "name": "stderr",
     "output_type": "stream",
     "text": [
      "/usr/local/lib/python3.11/dist-packages/bitsandbytes/nn/modules.py:463: UserWarning: Input type into Linear4bit is torch.float16, but bnb_4bit_compute_dtype=torch.float32 (default). This will lead to slow inference or training speed.\n",
      "  warnings.warn(\n"
     ]
    },
    {
     "name": "stdout",
     "output_type": "stream",
     "text": [
      "honestly.<|eot_id|><|start_header_id|>assistant<|end_header_id|>\n",
      "\n",
      "**Minutes of the Meeting**\n",
      "\n",
      "**Summary**\n",
      "The Denver City Council met on Monday, October 9th, to discuss various topics, including the approval of minutes, council announcements, presentations, communications, and a proclamation to observe the annual Indigenous Peoples Day in the City and County of Denver.\n",
      "\n",
      "**Attendees**\n",
      "\n",
      "* Council Members: Lopez, Clark, Ortega, Kinnech, and Sussman\n",
      "* Clerk: Espinosa\n",
      "* Other officials: Flynn, Gilmour, Cashman, and Kenneche\n",
      "\n",
      "**Location**\n",
      "Denver City Council Chambers\n",
      "\n",
      "**Date**\n",
      "Monday, October 9th\n",
      "\n",
      "**Discussion Points**\n",
      "\n",
      "* Approval of minutes from the previous meeting\n",
      "* Council announcements, including the first-ever Halloween parade in Lucky District 7\n",
      "* Presentations, including a proclamation to observe the annual Indigenous Peoples Day in the City and County of Denver\n",
      "* Communications, including a report on the contributions of Indigenous people to the city's history, culture, and development\n",
      "* Discussion on the importance of inclusivity and respecting all cultures, especially in the face of divisive and despicable behavior\n",
      "\n",
      "**Takeaways**\n",
      "\n",
      "* The city's Indigenous Peoples Day proclamation is a celebration of the cultural and foundational contributions of Indigenous people to the city's history, present, and future.\n",
      "* The proclamation aims to promote the education of the Denver community about the historical and contemporary contributions of Indigenous people.\n",
      "* The city's Indigenous Peoples Day is a day of inclusivity, respecting all cultures, and promoting understanding and appreciation of the diverse communities that make up the city.\n",
      "\n",
      "**Action Items**\n",
      "\n",
      "* **Councilman Lopez**: Sponsor and promote the Indigenous Peoples Day proclamation.\n",
      "* **Councilwoman Ortega**: Co-sponsor the proclamation and support the contributions of the Native American community to the city.\n",
      "* **Councilwoman Kinnech**: Support the preservation of public lands and the cultural heritage of Native American peoples in Colorado.\n",
      "\n",
      "**Resolutions**\n",
      "\n",
      "* Proclamation No. 1127, Series of 2017, be adopted, recognizing the cultural and foundational contributions of Indigenous people to the city's history, present, and future.\n",
      "* The city's Indigenous Peoples Day be observed on October 9th, 2017.<|eot_id|>\n"
     ]
    }
   ],
   "source": [
    "tokenizer = AutoTokenizer.from_pretrained(llama_model)\n",
    "tokenizer.pad_token = tokenizer.eos_token\n",
    "inputs = tokenizer.apply_chat_template(messages,return_tensors=\"pt\").to(\"cuda\")\n",
    "streamer = TextStreamer(tokenizer)\n",
    "model = AutoModelForCausalLM.from_pretrained(llama_model,device_map=\"auto\",quantization_config=quant_config)\n",
    "outputs = model.generate(inputs,max_new_tokens=2000,streamer=streamer)"
   ]
  },
  {
   "cell_type": "markdown",
   "metadata": {
    "id": "Ef7kGmbEGRUa"
   },
   "source": [
    "## 8. Properly formatting the MoM in Markdown Format"
   ]
  },
  {
   "cell_type": "code",
   "execution_count": null,
   "metadata": {
    "id": "Y6dkWv3QBJvW"
   },
   "outputs": [],
   "source": [
    "response = tokenizer.decode(outputs[0])"
   ]
  },
  {
   "cell_type": "code",
   "execution_count": null,
   "metadata": {
    "colab": {
     "base_uri": "https://localhost:8080/",
     "height": 1000
    },
    "id": "OE1oxMy_EmNJ",
    "outputId": "32eda0db-3740-495c-887e-679f14b3b7d3"
   },
   "outputs": [
    {
     "data": {
      "text/markdown": [
       "<|begin_of_text|><|start_header_id|>system<|end_header_id|>\n",
       "\n",
       "Cutting Knowledge Date: December 2023\n",
       "Today Date: 26 Jul 2024\n",
       "\n",
       "You are a very capable assistant that produces the MoM (Minutes of the Meeting) from any transcript, with summary, key discussion points, takeaways & action items with its respective owners, in proper markdown<|eot_id|><|start_header_id|>user<|end_header_id|>\n",
       "\n",
       "Below is the extract transcript of a Denver Council Meeting. Please write the minutes in markdown, including a summary with attendees, location and date; discussion points; takeaways; and action items with their respective owners. \n",
       "and kind of the confluence of this whole idea of the confluence week, the merging of two rivers and as we've kind of seen recently in politics and in the world, there's a lot of situations where water is very important right now and it's a very big issue. So that is the reason that the back of the logo is considered water. So let me see the creation of the logo here. So that basically kind of sums up the reason behind the logo and all the meanings behind the symbolism and you'll hear a little bit more about our confluence week is basically highlighting all of these indigenous events and things that are happening around Denver so that we can kind of bring more people together and kind of share this whole idea of Indigenous People's Day. So thank you. Thank you so much and thanks for your leadership. All right. Welcome to the Denver City Council meeting of Monday, October 9th. Please rise with the Pledge of Allegiance by Councilman Lopez. I pledge allegiance to the flag of the United States of America, and to the republic for which it stands, one nation, under God, indivisible, with liberty and justice for all. All right. Thank you, Councilman Lopez. Madam Secretary, roll call. Clerk. Here. Espinosa. Here. Flynn. Here. Gilmour. Here. Here. Cashman. Here. Kenneche. Here. Lopez. Here. New. Here. Ortega. Here. Sussman. Here. Mr. President. Here. 11 present. 11 members present. We do have a quorum. Approval of the minutes. Seeing none. Minutes of October 2nd stand approved. Council announcements. Are there any announcements by members of Council? Councilman Clark. Thank you, Mr. President. I just wanted to invite everyone down to the first ever Halloween parade on Broadway in Lucky District 7. It will happen on Saturday, October 21st at 6 o'clock p.m. It will move along Broadway from 3rd to Alameda. It's going to be a fun, family-friendly event. Everyone's invited to come down, wear a costume. There will be candy for the kids and there are tiki zombies and 29 hearses and all kinds of fun and funky stuff on the fun and funky part of Broadway. So please join us October 21st at 6 o'clock for the Broadway Halloween parade. Thank you, Mr. President. All right. Thank you, Councilman Clark. I will be there. All right. Presentations. Madam Secretary, do we have any presentations? None, Mr. President. Communications. Do we have any communications? None, Mr. President. We do have one proclamation this evening. Proclamation 1127, an observance of the annual Indigenous Peoples Day in the City and County of Denver. Councilman Lopez, will you please read it? Thank you, Mr. President, with pride. Proclamation number 17, well, let me just say this differently. Proclamation number 1127, series of 2017, an observance of the second annual Indigenous Peoples Day in the City and County of Denver. Whereas the Council of the City and County of Denver recognizes that the Indigenous Peoples have lived and flourished on the lands known as the Americas since time immemorial and that Denver and the surrounding communities are built upon the ancestral homelands of numerous Indigenous tribes, which include the Southern Ute, the Ute Mountain, Ute tribes of Colorado. And whereas the tribal homelands and seasonal encampments of the Arapaho and Cheyenne people along the banks of the Cherry Creek and South Platte River confluence gave bearing to the future settlements that would become the birthplace of the Mile High City. And whereas Colorado encompasses the ancestral homelands of 48 tribes and the City and County of Denver and surrounding communities are home to the descendants of approximately 100 tribal nations. And whereas on October 3rd, 2016, the City and County of Denver unanimously passed Council Bill 801, series of 2016, officially designating the second Monday of October of each year as Indigenous Peoples Day in Denver, Colorado. And whereas the Council of the City and County of Denver continues to recognize and value the vast contributions made to the community through Indigenous Peoples' knowledge, science, philosophy, arts, and culture. And through these contributions, the City of Denver has developed and thrived. Whereas the Indigenous community, especially youth, have made great efforts this year to draw attention to the contributions of Indigenous people, including Confluence Week, drawing record attendance to a National Indigenous Youth Leadership Conference, leading conversations on inclusion with their peers, and supporting increased Indigenous youth participation in science and engineering. Now, therefore, be it proclaimed by the Council of the City and County of Denver, Section 1, that the Council of the City and County of Denver celebrates and honors the cultural and foundational contributions of Indigenous people to our history, our past, our present, and future, and continues to promote the education of the Denver community about these historical and contemporary contributions of Indigenous people. Section 2, that the City and County of Denver, Colorado, does hereby observe October 9th, 2017, as Indigenous Peoples Day. Section 3, that the Clerk of the City and County of Denver shall attest and affix the seal of the City and County of Denver to this proclamation, and that a copy be transmitted to the Denver American Indian Commission, the City and County of Denver School District No. 1, and the Colorado Commission on Indian Affairs. Thank you, Councilman Lopez. Your motion to adopt. Mr. President, I move that Proclamation No. 1127, Series of 2017, be adopted. All right. It has been moved and seconded. It comes from the members of Council. Councilman Lopez. Thank you, Mr. President. It gives me a lot of pleasure and pride to read this proclamation officially for the third time, but as Indigenous Peoples Day in Denver, officially for the second time. It's always awesome to be able to see not just this proclamation come by my desk, but to see so many different people from our community in our Council Chambers. It was a very beautiful piece of artwork that you presented to us earlier, and it is exactly the spirit that we drafted this proclamation and this actual, the ordinance that created Indigenous Peoples Day when we sat down and wrote it, and as a community, we couldn't think of anything else to begin except for the confluence of the two rivers, and those confluence of the two rivers created such a great city, and we live in such an amazing city, and we're all proud of it, and sometimes we, and a lot of people from all over the country or all over the world are proud of it, and sometimes a little too proud of it is telling them to go back home, but I'm kidding when I say that, but the really nice thing about this is that we are celebrating Indigenous Peoples Day out of pride for who we are, who we are as a city, and the contributions of Indigenous people to the city, not out of spite, not out of a replacement of one culture over the other, or out of contempt or disrespect. You know, I think of a quote that Cesar Chavez made very popular, and it stuck with me for a very long time, and any time I have the opportunity to speak in front of children, and especially children in our community that, you know, they often second guess themselves on where they're coming from, who they are, and I always say that, you know, it's very important to be proud of who you're from, and the quote that I use from Cesar Chavez is, you know, pride in one's own cultures does not require contempt or disrespect of another, right? And that's very important. It's very important for us to recognize that, no matter who we are, where we come from in this society, that your pride in your own culture doesn't require, should not require the contempt or disrespect of another. And man, what a year to be, for that to just sit on our shoulders for a while, for us to think about, right? And so, I wanted to, just to thank you all, to thank the commission, there's going to be a couple individuals that are going to come speak, thank you for your art, your lovely artwork, for us to see what's in your heart and what now has become, probably is going to be a very important symbol for the community. And also, just for the work, the daily work, every single day, we still have a lot of brothers and sisters whose ancestors once lived in these lands freely, now stand on street corners, right? In poverty, without access to services, right? Without access to sobriety or even housing or jobs. And what a, what a, what a cruel way to pay back a culture that has paved the way for the city to be built upon its shores, right? So, we have a lot of work to do. And these kind of proclamations and this day is not a day off, it's a day on in Denver, right? And addressing those critical issues. So, I know that my colleagues are very supportive, I'm going to ask you to support this proclamation, as I know you always have done in the past, I'm very proud of today. Oh, and we made Time Magazine and Newsweek once again, today, as being a leader in terms of the cities that are celebrating Indigenous Peoples Day. I wanted to make a point out of that. Thank you, Councilman Lopez, and thank you for sponsoring this. Councilman Ortega? Mr. President, I want to ask that my name be added. I don't think I could add much more to what Councilman Lopez has shared with us. I want to thank him for bringing this forward and really just appreciate all the contributions that our Native American community has contributed to this great city and great state. I worked in the Lieutenant Governor's Office when the Commission on Indian Affairs was created, and had the benefit of being able to go down to the Four Corners for a peace treaty signing ceremony between the Utes and the Comanches that had been sort of at odds with each other for about a hundred years, and just being able to participate in that powwow was pretty awesome. And for those of you who continue to participate in the annual powwow, it's such a great opportunity for everybody else to enjoy so many of the contributions of the culture. I mean, to see that the dance continues to be carried on as well as the Native language from generation to generation is just so incredible because in so many cultures, you know, people have come here and assimilated to the, you know, the norms here and they lose their language and lose a lot of the culture. And in the Native community, that hasn't happened. That, you know, commitment to just passing that on from generation to generation is so important. And so I'm happy to be a co-sponsor of this tonight. Thank you. All right. Thank you, Councilwoman Ortega. Councilwoman Kaneech. Thank you very much, and I also want to thank my colleague for bringing this forward. And I just wanted to say a word to the artist about how beautiful and moving I thought this logo was and your description of it. And I think one of the things that is clear is, you know, the words sometimes don't convey the power of imagery or music or the other pieces that make up culture, and so I think the art is so important. And when you talked about water, I was also thinking about land, and I guess I just wanted to say thank you. Many of the Native American peoples of Colorado have been at the forefront, or actually nationally, of defending some of the public lands that have been protected over the last few years that are under attack right now. And they're places that the communities have fought to protect, but that everyone gets to enjoy. And so I just think that it's an example of where cultural preservation intersects with environmental protection, with, you know, recreation and all of the other ways that public lands are so important. And so I think I just wanted to say thank you for that because I think we have some very sacred places in our country that are at risk right now. And so as we celebrate, I appreciate that there's still a piece of resistance in here, and I think that I just want to mention a solidarity and mention a feeling of solidarity with that resistance. So thank you, and happy Confluence Week. Thank you, Councilwoman Kinneach. And seeing no other comments, I'll just say a couple. And in a time of such divisive ugliness and just despicable behavior from our leadership, the reason I'm so supportive of Indigenous Peoples' Day is because it means inclusivity. It means respecting all, respecting those who have been silenced on purpose for a long time and whose history has not been told. And so we celebrate inclusivity in the face of such evil times, honestly.<|eot_id|><|start_header_id|>assistant<|end_header_id|>\n",
       "\n",
       "**Minutes of the Meeting**\n",
       "\n",
       "**Summary**\n",
       "The Denver City Council met on Monday, October 9th, to discuss various topics, including the approval of minutes, council announcements, presentations, communications, and a proclamation to observe the annual Indigenous Peoples Day in the City and County of Denver.\n",
       "\n",
       "**Attendees**\n",
       "\n",
       "* Council Members: Lopez, Clark, Ortega, Kinnech, and Sussman\n",
       "* Clerk: Espinosa\n",
       "* Other officials: Flynn, Gilmour, Cashman, and Kenneche\n",
       "\n",
       "**Location**\n",
       "Denver City Council Chambers\n",
       "\n",
       "**Date**\n",
       "Monday, October 9th\n",
       "\n",
       "**Discussion Points**\n",
       "\n",
       "* Approval of minutes from the previous meeting\n",
       "* Council announcements, including the first-ever Halloween parade in Lucky District 7\n",
       "* Presentations, including a proclamation to observe the annual Indigenous Peoples Day in the City and County of Denver\n",
       "* Communications, including a report on the contributions of Indigenous people to the city's history, culture, and development\n",
       "* Discussion on the importance of inclusivity and respecting all cultures, especially in the face of divisive and despicable behavior\n",
       "\n",
       "**Takeaways**\n",
       "\n",
       "* The city's Indigenous Peoples Day proclamation is a celebration of the cultural and foundational contributions of Indigenous people to the city's history, present, and future.\n",
       "* The proclamation aims to promote the education of the Denver community about the historical and contemporary contributions of Indigenous people.\n",
       "* The city's Indigenous Peoples Day is a day of inclusivity, respecting all cultures, and promoting understanding and appreciation of the diverse communities that make up the city.\n",
       "\n",
       "**Action Items**\n",
       "\n",
       "* **Councilman Lopez**: Sponsor and promote the Indigenous Peoples Day proclamation.\n",
       "* **Councilwoman Ortega**: Co-sponsor the proclamation and support the contributions of the Native American community to the city.\n",
       "* **Councilwoman Kinnech**: Support the preservation of public lands and the cultural heritage of Native American peoples in Colorado.\n",
       "\n",
       "**Resolutions**\n",
       "\n",
       "* Proclamation No. 1127, Series of 2017, be adopted, recognizing the cultural and foundational contributions of Indigenous people to the city's history, present, and future.\n",
       "* The city's Indigenous Peoples Day be observed on October 9th, 2017.<|eot_id|>"
      ],
      "text/plain": [
       "<IPython.core.display.Markdown object>"
      ]
     },
     "metadata": {},
     "output_type": "display_data"
    }
   ],
   "source": [
    "display(Markdown(response))"
   ]
  },
  {
   "cell_type": "code",
   "execution_count": null,
   "metadata": {
    "id": "ygmxoz25qYKf"
   },
   "outputs": [],
   "source": []
  }
 ],
 "metadata": {
  "accelerator": "GPU",
  "colab": {
   "gpuType": "T4",
   "provenance": []
  },
  "kernelspec": {
   "display_name": "Python 3",
   "name": "python3"
  },
  "language_info": {
   "name": "python"
  }
 },
 "nbformat": 4,
 "nbformat_minor": 0
}
