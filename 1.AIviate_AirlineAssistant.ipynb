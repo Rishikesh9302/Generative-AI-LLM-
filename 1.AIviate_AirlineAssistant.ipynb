{
 "cells": [
  {
   "cell_type": "markdown",
   "id": "d006b2ea-9dfe-49c7-88a9-a5a0775185fd",
   "metadata": {},
   "source": [
    "# ✈️ AIviate: Your Intelligent Airline Assistant\n",
    "\n",
    "**AIviate** is a multimodal airline assistant built using **OpenAI's GPT-4o** and **Anthropic’s Claude** models. It offers a seamless, voice-enabled flight experience with multilingual support and dynamic visuals.\n",
    "\n",
    "---\n",
    "\n",
    "## 🔧 Core Features\n",
    "\n",
    "- 🎫 **Flight Booking**: Books flights by collecting name, destination city, and travel date.\n",
    "- 💰 **Ticket Pricing**: Instantly fetches return ticket prices for top destinations.\n",
    "- 🌍 **Vacation Image Generation**: Uses **DALL·E 3** to create ultra-realistic vacation images of the destination city.\n",
    "- 🎙️ **Voice Input & Output**: \n",
    "  - Accepts voice input using **Whisper** (OpenAI).\n",
    "  - Reads replies aloud using **TTS (Text-to-Speech)**.\n",
    "- 🌐 **Spanish Translation**: Translates assistant replies to natural Spanish using **Claude**.\n",
    "- 🧠 **Function Calling**: Automatically uses tools for pricing and booking via OpenAI’s function calling.\n",
    "\n",
    "---\n",
    "\n",
    "## 🧠 Models Used\n",
    "\n",
    "| Functionality           | Model / API               |\n",
    "|------------------------|---------------------------|\n",
    "| Main Assistant Logic    | `gpt-4o`, `gpt-4o-mini`    |\n",
    "| Audio Transcription     | `whisper-1`               |\n",
    "| Text-to-Speech          | `tts-1`                   |\n",
    "| Image Generation        | `dall-e-3`                |\n",
    "| Spanish Translation     | `claude-3-haiku-20240307` |\n",
    "\n",
    "---\n",
    "\n",
    "## 💻 Tech Stack\n",
    "\n",
    "- Python\n",
    "- Gradio\n",
    "- OpenAI API\n",
    "- Anthropic API\n",
    "- dotenv (`.env` configuration)\n",
    "\n",
    "---\n",
    "\n",
    "> Type, speak, or upload your query. Get instant answers, voice replies, translated responses, and destination visuals — all in one smart assistant!\n"
   ]
  },
  {
   "cell_type": "markdown",
   "id": "fff5db09-6ff2-46fe-a787-a0341ac21b1e",
   "metadata": {},
   "source": [
    "## 1.Importing Libraries"
   ]
  },
  {
   "cell_type": "code",
   "execution_count": 1,
   "id": "a07e7793-b8f5-44f4-aded-5562f633271a",
   "metadata": {},
   "outputs": [],
   "source": [
    "import os \n",
    "import json\n",
    "import base64\n",
    "from io import BytesIO\n",
    "from dotenv import load_dotenv\n",
    "from openai import OpenAI\n",
    "import anthropic\n",
    "import gradio as gr\n",
    "from PIL import Image"
   ]
  },
  {
   "cell_type": "markdown",
   "id": "c81ca828-0e0d-439c-96cf-3361b5d142e7",
   "metadata": {},
   "source": [
    "## 2. Setting up the environment"
   ]
  },
  {
   "cell_type": "code",
   "execution_count": 2,
   "id": "b6ab0118-831c-44a9-ae78-057d057b14ca",
   "metadata": {},
   "outputs": [
    {
     "name": "stdout",
     "output_type": "stream",
     "text": [
      "OpenAI API Key exists and begins sk-proj-\n",
      "Anthropic API Key exists and begins sk-ant-a\n"
     ]
    }
   ],
   "source": [
    "load_dotenv(override=True)\n",
    "\n",
    "openai_api_key = os.getenv('OPENAI_API_KEY')\n",
    "anthropic_api_key=os.getenv('ANTHROPIC_API_KEY')\n",
    "\n",
    "if openai_api_key:\n",
    "    print(f\"OpenAI API Key exists and begins {openai_api_key[:8]}\")\n",
    "else:\n",
    "    print(\"OpenAI API Key NOT FOUND!\")\n",
    "\n",
    "if anthropic_api_key:\n",
    "    print(f\"Anthropic API Key exists and begins {anthropic_api_key[:8]}\")\n",
    "else:\n",
    "    print(\"Anthropic API Key NOT FOUND!\")\n",
    "\n",
    "openai = OpenAI(api_key=openai_api_key)\n",
    "anthropic_client = anthropic.Anthropic(api_key=anthropic_api_key)"
   ]
  },
  {
   "cell_type": "markdown",
   "id": "e23795e2-2c03-4a16-80a6-2f9dedbd50f8",
   "metadata": {},
   "source": [
    "## 3. Defining the System Prompts"
   ]
  },
  {
   "cell_type": "code",
   "execution_count": 3,
   "id": "226c3b8b-e7a0-4707-a8f5-fb068df0bd0b",
   "metadata": {},
   "outputs": [],
   "source": [
    "system_message = \"You are a helpful assistant for an airline called AIviate\"\n",
    "system_message += \"Give short, courteous answers, not more than 1 sentence.\"\n",
    "system_message += \"Always be precise,accurate and to the point. If you don't know the answer, say so in a polite way.\"\n",
    "\n",
    "system_prompt_translate = \"Please trasnlsate the following message into clear,natural spanish.\"\n",
    "system_prompt_translate += \"Only output the translation. Do not add any explanation.\"\n",
    "\n",
    "system_prompt_translate_claude = \"Por favor, traduzca el siguiente mensaje al español, natural y correcto. Solo muestre la traducción.\""
   ]
  },
  {
   "cell_type": "markdown",
   "id": "3a3c92af-c0ec-471a-ad26-aa1145e29a12",
   "metadata": {},
   "source": [
    "## 4. Tool : Ticket Price"
   ]
  },
  {
   "cell_type": "code",
   "execution_count": 4,
   "id": "4b113a9d-c400-4dbf-b57a-12478df3a1f3",
   "metadata": {},
   "outputs": [],
   "source": [
    "ticket_prices= {\"london\":\"$799\",\"london\":\"$799\",\"paris\":\"$899\",\"tokyo\":\"$1499\",\"berlin\":\"$499\"}\n",
    "\n",
    "def get_ticket_price(destination_city):\n",
    "    city = destination_city.strip().lower()\n",
    "    return ticket_prices.get(city,\"Unkwown\")"
   ]
  },
  {
   "cell_type": "markdown",
   "id": "1de1bf8f-84fe-46b2-9b66-b5962e62c3c3",
   "metadata": {},
   "source": [
    "## 5. Tool : Booking"
   ]
  },
  {
   "cell_type": "code",
   "execution_count": 5,
   "id": "bfc53cd3-a5e2-4a39-a998-d13a478c3d0f",
   "metadata": {},
   "outputs": [],
   "source": [
    "def make_booking(name,city,date):\n",
    "    booking_id = f\"FLT{str(abs(hash((name,city,date)))%100000).zfill(5)}\"\n",
    "    return {\n",
    "        \"message\" : f\"Booking confirmed for {name} to {city.title()} on {date}.\",\n",
    "        \"booking_reference\" : booking_id\n",
    "    }\n",
    "    "
   ]
  },
  {
   "cell_type": "markdown",
   "id": "bb1122e6-f64e-4c44-9f36-df63bbd531b4",
   "metadata": {},
   "source": [
    "## 6. Defining the Function Tools (OpenAI)"
   ]
  },
  {
   "cell_type": "code",
   "execution_count": 6,
   "id": "7eff16bb-d16c-4bc9-90aa-807e63c8009d",
   "metadata": {},
   "outputs": [],
   "source": [
    "# Price Tool\n",
    "price_fucntion = {\n",
    "    \"type\":\"function\",\n",
    "    \"function\": {\n",
    "        \"name\" : \"get_ticket_price\",\n",
    "        \"description\" : \"Get the price of return ticket to the destination city. Use when a customer asks about it\",\n",
    "        \"parameters\" : {\n",
    "            \"type\" : \"object\",\n",
    "            \"properties\" : {\n",
    "                \"destination_city\" : {\"type\" : \"string\", \"Description\" : \"Destination City Name\"},\n",
    "            },\n",
    "            \"required\" : [\"destination_city\"]\n",
    "        }\n",
    "    }\n",
    "}\n",
    "\n",
    "#Booking Tool\n",
    "booking_function = {\n",
    "    \"type\" : \"function\",\n",
    "    \"function\": {\n",
    "        \"name\" : \"make_booking\",\n",
    "        \"description\" : \"Make booking for a customer. You must collect their name, destination city & date of travel before booking\",\n",
    "        \"parameters\" : {\n",
    "            \"type\" : \"object\",\n",
    "            \"properties\" : {\n",
    "                \"name\": {\"type\": \"string\", \"description\": \"Name of the passenger\"},\n",
    "                \"city\": {\"type\": \"string\", \"description\": \"Destination city\"},\n",
    "                \"date\": {\"type\": \"string\", \"description\": \"Travel date (YYYY-MM-DD)\"},\n",
    "            },\n",
    "            \"required\" : [\"name\",\"city\",\"date\"]\n",
    "        }\n",
    "    }\n",
    "    \n",
    "}\n",
    "\n",
    "tools = [price_fucntion,booking_function]"
   ]
  },
  {
   "cell_type": "markdown",
   "id": "b51c8ba3-edcb-43a5-8453-73ef0483a46d",
   "metadata": {},
   "source": [
    "## 7. Destination City Image Creator (OpenAI Dall E)"
   ]
  },
  {
   "cell_type": "code",
   "execution_count": 7,
   "id": "911d270f-a2da-494b-82e4-b9713169a457",
   "metadata": {},
   "outputs": [],
   "source": [
    "def artist(city):\n",
    "    image_response = openai.images.generate(\n",
    "        model = \"dall-e-3\",\n",
    "        prompt = f\"An image representing a vacation in city {city}, showing tourists eveything unique about the {city}, in an ultra realsitic way\",\n",
    "        size = \"1024x1024\",\n",
    "        n=1,\n",
    "        response_format = \"b64_json\",\n",
    "    )\n",
    "\n",
    "    image_base64 = image_response.data[0].b64_json\n",
    "    image_data = base64.b64decode(image_base64)\n",
    "    return Image.open(BytesIO(image_data))"
   ]
  },
  {
   "cell_type": "markdown",
   "id": "4ea54daa-492b-42f6-aa7f-70d3b78dd904",
   "metadata": {},
   "source": [
    "## 8. Audio Generator (I/O): GPT for MAIN & Claude for Spanish Translation"
   ]
  },
  {
   "cell_type": "code",
   "execution_count": 8,
   "id": "fa2efc78-1562-41b9-af88-782b54087023",
   "metadata": {},
   "outputs": [],
   "source": [
    "#Audio for talking (Assiatant output) - GPT\n",
    "def talker(message):\n",
    "    try:\n",
    "        response = openai.audio.speech.create(\n",
    "            model = \"tts-1\",\n",
    "            voice = \"onyx\",\n",
    "            input = message\n",
    "        )\n",
    "\n",
    "        return (response.content,\"audio/mp3\")\n",
    "    except Exception:\n",
    "        return (b'','audio/mp3')\n",
    "        \n",
    "#Translation - GPT input, Claude output\n",
    "def call_openai_translation(text):\n",
    "    messages = [{\"role\":\"system\",\"content\":system_prompt_translate},{\"role\":\"user\",\"content\":text}]\n",
    "    response = openai.chat.completions.create(model=\"gpt-4o-mini\",messages=messages)\n",
    "\n",
    "    return response.choices[0].message.content\n",
    "\n",
    "\n",
    "def call_claude_translation(text):\n",
    "    resp = anthropic_client.messages.create(\n",
    "        model = \"claude-3-haiku-20240307\",\n",
    "        max_tokens = 256,\n",
    "        temperature = 0.2,\n",
    "        system = system_prompt_translate_claude,\n",
    "        messages = [{\"role\" : \"user\",\"content\":text}]\n",
    "    )\n",
    "\n",
    "    return resp.content[0].text if resp.content else ' '"
   ]
  },
  {
   "cell_type": "markdown",
   "id": "0d1b2a11-6317-4cf7-ab9e-61303df3d9f6",
   "metadata": {},
   "source": [
    "## 9. Tool Handler"
   ]
  },
  {
   "cell_type": "code",
   "execution_count": 9,
   "id": "1ae6d1d7-e8f9-4fc3-9e64-514b90997202",
   "metadata": {},
   "outputs": [],
   "source": [
    "def handle_tool_call_openai(message):\n",
    "    tool_call = message.tool_calls[0]\n",
    "    func = tool_call.function\n",
    "    fn_name = func.name\n",
    "    arguments = json.loads(func.arguments)\n",
    "\n",
    "    if fn_name == 'get_ticket_price':\n",
    "        city = arguments.get('destination_city')\n",
    "        price = get_ticket_price(city)\n",
    "        tool_resp = {\"role\": \"tool\",\n",
    "            \"content\": json.dumps({\"destination_city\": city, \"price\": price}),\n",
    "            \"tool_call_id\": tool_call.id\n",
    "        }\n",
    "        return tool_resp, city, None\n",
    "\n",
    "    elif fn_name == 'make_booking':\n",
    "        name = arguments.get('name')\n",
    "        city = arguments.get('city')\n",
    "        date = arguments.get('date')\n",
    "        out = make_booking(name, city, date)\n",
    "        tool_resp = {\n",
    "            \"role\": \"tool\",\n",
    "            \"content\": json.dumps(out),\n",
    "            \"tool_call_id\": tool_call.id\n",
    "        }\n",
    "        return tool_resp, city, out[\"booking_reference\"]\n",
    "\n",
    "    else:\n",
    "        return {\"role\": \"tool\", \"content\": \"{}\", \"tool_call_id\": tool_call.id}, \"\", None"
   ]
  },
  {
   "cell_type": "markdown",
   "id": "80790f13-3a86-44d0-bebd-5d6cb49367d5",
   "metadata": {},
   "source": [
    "## 10. Main Function"
   ]
  },
  {
   "cell_type": "code",
   "execution_count": 10,
   "id": "09fff8a5-7c1b-4d05-84c4-a56dd3287ef2",
   "metadata": {},
   "outputs": [],
   "source": [
    "def full_agent(user_message,chat_history,audio_in):\n",
    "    if audio_in is not None and (not user_message or user_message.strip() == \"\"):\n",
    "        try:\n",
    "            with open(audio_in,\"rb\") as audio_file:\n",
    "                transcript = openai.audio.transcriptions.create(\n",
    "                    model = \"whisper-1\",\n",
    "                    file = audio_file\n",
    "                )\n",
    "            user_message = transcript.text\n",
    "        except Exception as e:\n",
    "            print(\"Whisper transcription error: \",str(e))\n",
    "            user_message = \"(Audio could not be transcribed)\"\n",
    "            \n",
    "    all_messages = [{\"role\":\"system\", \"content\": system_message}]\n",
    "    all_messages.extend(chat_history)\n",
    "    all_messages.append({\"role\": \"user\", \"content\": user_message})\n",
    "\n",
    "    reply = \"\"\n",
    "    city = \"\"\n",
    "    booking_ref = None\n",
    "    image_obj = None\n",
    "\n",
    "    # Using GPT for main responses\n",
    "    response = openai.chat.completions.create(\n",
    "        model = 'gpt-4o-mini',\n",
    "        messages = all_messages,\n",
    "        tools = tools\n",
    "    )\n",
    "\n",
    "    finish_reason = response.choices[0].finish_reason\n",
    "    msg =response.choices[0].message\n",
    "    \n",
    "    if finish_reason == \"tool_calls\":\n",
    "        tool_resp,city,booking_ref = handle_tool_call_openai(msg)\n",
    "        all_messages.append(msg)\n",
    "        all_messages.append(tool_resp)\n",
    "        next_response = openai.chat.completions.create(\n",
    "            model=\"gpt-4o\",\n",
    "            messages=all_messages\n",
    "        )\n",
    "\n",
    "        reply = next_response.choices[0].message.content\n",
    "        image_obj = artist(city) if city else None\n",
    "\n",
    "    else:\n",
    "        reply = msg.content\n",
    "\n",
    "    # Using Claude for translation ONLY\n",
    "    translation = call_claude_translation(reply)\n",
    "\n",
    "    audio_bytes, audio_type = talker(reply) if reply else (b'',\"audio/mp3\")\n",
    "    \n",
    "    chat_history.append({\"role\": \"user\", \"content\": user_message})\n",
    "    if booking_ref:\n",
    "        reply = f\"{reply} (Your booking reference: {booking_ref})\"\n",
    "        translation = f\"{translation} (Referencia de reserva: {booking_ref})\"\n",
    "    chat_history.append({\"role\": \"assistant\", \"content\": reply})    \n",
    "\n",
    "    return chat_history, translation, audio_bytes, image_obj"
   ]
  },
  {
   "cell_type": "markdown",
   "id": "b7e62edd-9511-41d8-afac-4ea6d2e61bec",
   "metadata": {},
   "source": [
    "## 11. User Interface using Gradio"
   ]
  },
  {
   "cell_type": "code",
   "execution_count": 11,
   "id": "fda57ffc-1009-4f7b-a74f-e9730f86572a",
   "metadata": {},
   "outputs": [
    {
     "name": "stdout",
     "output_type": "stream",
     "text": [
      "* Running on local URL:  http://127.0.0.1:7860\n",
      "* To create a public link, set `share=True` in `launch()`.\n"
     ]
    },
    {
     "data": {
      "text/html": [
       "<div><iframe src=\"http://127.0.0.1:7860/\" width=\"100%\" height=\"500\" allow=\"autoplay; camera; microphone; clipboard-read; clipboard-write;\" frameborder=\"0\" allowfullscreen></iframe></div>"
      ],
      "text/plain": [
       "<IPython.core.display.HTML object>"
      ]
     },
     "metadata": {},
     "output_type": "display_data"
    },
    {
     "data": {
      "text/plain": []
     },
     "execution_count": 11,
     "metadata": {},
     "output_type": "execute_result"
    }
   ],
   "source": [
    "with gr.Blocks(title=\"AIviate: Your friendly Airline Assiatant!\") as demo:\n",
    "    gr.Markdown(\"# ✈️ AIviate Airline Assistant\\nType, speak, or upload your query. Hear answers, get translated replies and destination images!<br>Try: <i>'Book me a ticket to Paris for tomorrow as Rishikesh.'</i>\", elem_id=\"top_mkd\")\n",
    "\n",
    "    with gr.Row():\n",
    "        with gr.Column(scale=2):\n",
    "            chatbot = gr.Chatbot(label=\"Assistant\", show_label=True, type=\"messages\")\n",
    "            text_input = gr.Textbox(label=\"Ask a question or request:\", lines=1)\n",
    "        with gr.Column(scale=1):\n",
    "            gr.Markdown(\"#### Translation (Spanish):\")\n",
    "            translation_box = gr.Textbox(label=\"En español\", interactive=False, lines=2)\n",
    "            image_output = gr.Image(label=\"Related Vacation Image\", interactive=False)\n",
    "            audio_output = gr.Audio(label=\"Assistant Audio\", interactive=False, type=\"filepath\", show_label=True, autoplay=True)\n",
    "\n",
    "    with gr.Row():\n",
    "        audio_in = gr.Audio(label=\"Speak your request\", type=\"filepath\", show_label=True)\n",
    "        clear_btn = gr.Button(\"Clear Conversation\")\n",
    "\n",
    "    def clear_hist():\n",
    "        return [], \"\", \"\", None\n",
    "\n",
    "    text_input.submit(\n",
    "        full_agent, \n",
    "        inputs=[text_input, chatbot, audio_in],\n",
    "        outputs=[chatbot, translation_box, audio_output, image_output],\n",
    "        queue=True\n",
    "    )\n",
    "\n",
    "    audio_in.stop_recording(\n",
    "        full_agent,\n",
    "        inputs=[text_input, chatbot, audio_in],\n",
    "        outputs=[chatbot, translation_box, audio_output, image_output]\n",
    "    )\n",
    "\n",
    "    clear_btn.click(clear_hist, None, [chatbot, translation_box, audio_output, image_output])\n",
    "\n",
    "demo.queue()\n",
    "demo.launch(inbrowser=True)"
   ]
  },
  {
   "cell_type": "code",
   "execution_count": null,
   "id": "e10c8fb9-4c89-473c-98fd-323d6187792e",
   "metadata": {},
   "outputs": [],
   "source": []
  }
 ],
 "metadata": {
  "kernelspec": {
   "display_name": "Python 3 (ipykernel)",
   "language": "python",
   "name": "python3"
  },
  "language_info": {
   "codemirror_mode": {
    "name": "ipython",
    "version": 3
   },
   "file_extension": ".py",
   "mimetype": "text/x-python",
   "name": "python",
   "nbconvert_exporter": "python",
   "pygments_lexer": "ipython3",
   "version": "3.11.12"
  }
 },
 "nbformat": 4,
 "nbformat_minor": 5
}
